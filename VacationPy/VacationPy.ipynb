{
 "cells": [
  {
   "cell_type": "markdown",
   "metadata": {},
   "source": [
    "# VacationPy\n"
   ]
  },
  {
   "cell_type": "code",
   "execution_count": 1,
   "metadata": {},
   "outputs": [],
   "source": [
    "# Dependencies and Setup\n",
    "import matplotlib.pyplot as plt\n",
    "import pandas as pd\n",
    "import numpy as np\n",
    "import requests\n",
    "import gmaps\n",
    "import os\n",
    "import json\n",
    "\n",
    "# Import API key\n",
    "from config import gkey\n",
    "gmaps.configure(api_key=gkey)"
   ]
  },
  {
   "cell_type": "markdown",
   "metadata": {},
   "source": [
    "### Store Part I results into DataFrame\n",
    "* Load the csv exported in Part I to a DataFrame"
   ]
  },
  {
   "cell_type": "code",
   "execution_count": 2,
   "metadata": {},
   "outputs": [
    {
     "data": {
      "text/html": [
       "<div>\n",
       "<style scoped>\n",
       "    .dataframe tbody tr th:only-of-type {\n",
       "        vertical-align: middle;\n",
       "    }\n",
       "\n",
       "    .dataframe tbody tr th {\n",
       "        vertical-align: top;\n",
       "    }\n",
       "\n",
       "    .dataframe thead th {\n",
       "        text-align: right;\n",
       "    }\n",
       "</style>\n",
       "<table border=\"1\" class=\"dataframe\">\n",
       "  <thead>\n",
       "    <tr style=\"text-align: right;\">\n",
       "      <th></th>\n",
       "      <th>City</th>\n",
       "      <th>Latitude</th>\n",
       "      <th>Longitude</th>\n",
       "      <th>Max-Temp</th>\n",
       "      <th>Humidity</th>\n",
       "      <th>Cloudiness</th>\n",
       "      <th>Wind Speed</th>\n",
       "      <th>Country</th>\n",
       "      <th>Date</th>\n",
       "    </tr>\n",
       "  </thead>\n",
       "  <tbody>\n",
       "    <tr>\n",
       "      <th>0</th>\n",
       "      <td>rikitea</td>\n",
       "      <td>-23.1203</td>\n",
       "      <td>-134.9692</td>\n",
       "      <td>78.01</td>\n",
       "      <td>72</td>\n",
       "      <td>100</td>\n",
       "      <td>6.04</td>\n",
       "      <td>PF</td>\n",
       "      <td>1619495166</td>\n",
       "    </tr>\n",
       "    <tr>\n",
       "      <th>1</th>\n",
       "      <td>mataura</td>\n",
       "      <td>-46.1927</td>\n",
       "      <td>168.8643</td>\n",
       "      <td>46.00</td>\n",
       "      <td>75</td>\n",
       "      <td>91</td>\n",
       "      <td>5.01</td>\n",
       "      <td>NZ</td>\n",
       "      <td>1619495167</td>\n",
       "    </tr>\n",
       "    <tr>\n",
       "      <th>2</th>\n",
       "      <td>quelimane</td>\n",
       "      <td>-17.8786</td>\n",
       "      <td>36.8883</td>\n",
       "      <td>75.20</td>\n",
       "      <td>94</td>\n",
       "      <td>20</td>\n",
       "      <td>2.30</td>\n",
       "      <td>MZ</td>\n",
       "      <td>1619495167</td>\n",
       "    </tr>\n",
       "    <tr>\n",
       "      <th>3</th>\n",
       "      <td>hamilton</td>\n",
       "      <td>39.1834</td>\n",
       "      <td>-84.5333</td>\n",
       "      <td>63.00</td>\n",
       "      <td>48</td>\n",
       "      <td>75</td>\n",
       "      <td>9.22</td>\n",
       "      <td>US</td>\n",
       "      <td>1619495060</td>\n",
       "    </tr>\n",
       "    <tr>\n",
       "      <th>4</th>\n",
       "      <td>atuona</td>\n",
       "      <td>-9.8000</td>\n",
       "      <td>-139.0333</td>\n",
       "      <td>79.70</td>\n",
       "      <td>74</td>\n",
       "      <td>94</td>\n",
       "      <td>17.45</td>\n",
       "      <td>PF</td>\n",
       "      <td>1619495167</td>\n",
       "    </tr>\n",
       "  </tbody>\n",
       "</table>\n",
       "</div>"
      ],
      "text/plain": [
       "        City  Latitude  Longitude  Max-Temp  Humidity  Cloudiness  Wind Speed  \\\n",
       "0    rikitea  -23.1203  -134.9692     78.01        72         100        6.04   \n",
       "1    mataura  -46.1927   168.8643     46.00        75          91        5.01   \n",
       "2  quelimane  -17.8786    36.8883     75.20        94          20        2.30   \n",
       "3   hamilton   39.1834   -84.5333     63.00        48          75        9.22   \n",
       "4     atuona   -9.8000  -139.0333     79.70        74          94       17.45   \n",
       "\n",
       "  Country        Date  \n",
       "0      PF  1619495166  \n",
       "1      NZ  1619495167  \n",
       "2      MZ  1619495167  \n",
       "3      US  1619495060  \n",
       "4      PF  1619495167  "
      ]
     },
     "execution_count": 2,
     "metadata": {},
     "output_type": "execute_result"
    }
   ],
   "source": [
    "cities=pd.read_csv('../WeatherPy/output_data/cities.csv')\n",
    "cities.head()"
   ]
  },
  {
   "cell_type": "markdown",
   "metadata": {},
   "source": [
    "### Humidity Heatmap\n",
    "* Configure gmaps.\n",
    "* Use the Lat and Lng as locations and Humidity as the weight.\n",
    "* Add Heatmap layer to map."
   ]
  },
  {
   "cell_type": "code",
   "execution_count": 3,
   "metadata": {},
   "outputs": [
    {
     "data": {
      "application/vnd.jupyter.widget-view+json": {
       "model_id": "0c9a012949e542938bda63367e8749a5",
       "version_major": 2,
       "version_minor": 0
      },
      "text/plain": [
       "Figure(layout=FigureLayout(height='420px'))"
      ]
     },
     "metadata": {},
     "output_type": "display_data"
    }
   ],
   "source": [
    "locations = cities[['Latitude', 'Longitude']].astype(float)\n",
    "weight = cities['Humidity'].astype(float)\n",
    "center = (35,0)\n",
    "\n",
    "fig = gmaps.figure(center=center, zoom_level=1.4)\n",
    "\n",
    "heat_layer = gmaps.heatmap_layer(locations, weights=weight, dissipating=False, \n",
    "                                 max_intensity=80, point_radius=2)\n",
    "\n",
    "fig.add_layer(heat_layer)\n",
    "\n",
    "fig"
   ]
  },
  {
   "cell_type": "markdown",
   "metadata": {},
   "source": [
    "### Create new DataFrame fitting weather criteria\n",
    "* Narrow down the cities to fit weather conditions.\n",
    "* Drop any rows will null values."
   ]
  },
  {
   "cell_type": "code",
   "execution_count": 4,
   "metadata": {},
   "outputs": [],
   "source": [
    "desirable_cities = cities.loc[(cities['Max-Temp'] > 70) &\n",
    "                             (cities['Max-Temp'] < 90) &\n",
    "                             (cities['Humidity'] < 30) &\n",
    "                             (cities['Wind Speed'] < 10)].copy()\n",
    "desirable_cities.reset_index(drop=True, inplace=True)"
   ]
  },
  {
   "cell_type": "markdown",
   "metadata": {},
   "source": [
    "### Hotel Map\n",
    "* Store into variable named `hotel_df`.\n",
    "* Add a \"Hotel Name\" column to the DataFrame.\n",
    "* Set parameters to search for hotels with 5000 meters.\n",
    "* Hit the Google Places API for each city's coordinates.\n",
    "* Store the first Hotel result into the DataFrame.\n",
    "* Plot markers on top of the heatmap."
   ]
  },
  {
   "cell_type": "code",
   "execution_count": 6,
   "metadata": {},
   "outputs": [
    {
     "data": {
      "text/html": [
       "<div>\n",
       "<style scoped>\n",
       "    .dataframe tbody tr th:only-of-type {\n",
       "        vertical-align: middle;\n",
       "    }\n",
       "\n",
       "    .dataframe tbody tr th {\n",
       "        vertical-align: top;\n",
       "    }\n",
       "\n",
       "    .dataframe thead th {\n",
       "        text-align: right;\n",
       "    }\n",
       "</style>\n",
       "<table border=\"1\" class=\"dataframe\">\n",
       "  <thead>\n",
       "    <tr style=\"text-align: right;\">\n",
       "      <th></th>\n",
       "      <th>Hotel Name</th>\n",
       "    </tr>\n",
       "  </thead>\n",
       "  <tbody>\n",
       "  </tbody>\n",
       "</table>\n",
       "</div>"
      ],
      "text/plain": [
       "Empty DataFrame\n",
       "Columns: [Hotel Name]\n",
       "Index: []"
      ]
     },
     "execution_count": 6,
     "metadata": {},
     "output_type": "execute_result"
    }
   ],
   "source": [
    "hotel_df = pd.DataFrame()\n",
    "hotel_df['Hotel Name'] = ''\n",
    "hotel_df"
   ]
  },
  {
   "cell_type": "code",
   "execution_count": 13,
   "metadata": {},
   "outputs": [
    {
     "name": "stdout",
     "output_type": "stream",
     "text": [
      "No hotel found in bitkine.\n",
      "No hotel found in taoudenni.\n",
      "No hotel found in agadez.\n",
      "No hotel found in kidal.\n",
      "No hotel found in adrar.\n",
      "No hotel found in tessalit.\n",
      "No hotel found in goure.\n"
     ]
    },
    {
     "data": {
      "text/html": [
       "<div>\n",
       "<style scoped>\n",
       "    .dataframe tbody tr th:only-of-type {\n",
       "        vertical-align: middle;\n",
       "    }\n",
       "\n",
       "    .dataframe tbody tr th {\n",
       "        vertical-align: top;\n",
       "    }\n",
       "\n",
       "    .dataframe thead th {\n",
       "        text-align: right;\n",
       "    }\n",
       "</style>\n",
       "<table border=\"1\" class=\"dataframe\">\n",
       "  <thead>\n",
       "    <tr style=\"text-align: right;\">\n",
       "      <th></th>\n",
       "      <th>Hotel Name</th>\n",
       "      <th>City</th>\n",
       "      <th>Country</th>\n",
       "      <th>Latitude</th>\n",
       "      <th>Longitude</th>\n",
       "    </tr>\n",
       "  </thead>\n",
       "  <tbody>\n",
       "    <tr>\n",
       "      <th>0</th>\n",
       "      <td>Expeditions Ténére voyages</td>\n",
       "      <td>bilma</td>\n",
       "      <td>NE</td>\n",
       "      <td>18.6853</td>\n",
       "      <td>12.9164</td>\n",
       "    </tr>\n",
       "    <tr>\n",
       "      <th>1</th>\n",
       "      <td>Bitkine</td>\n",
       "      <td>bitkine</td>\n",
       "      <td>TD</td>\n",
       "      <td>11.9801</td>\n",
       "      <td>18.2138</td>\n",
       "    </tr>\n",
       "    <tr>\n",
       "      <th>2</th>\n",
       "      <td>Oumou Elghoura</td>\n",
       "      <td>atar</td>\n",
       "      <td>MR</td>\n",
       "      <td>20.5169</td>\n",
       "      <td>-13.0499</td>\n",
       "    </tr>\n",
       "    <tr>\n",
       "      <th>3</th>\n",
       "      <td>Bungalows Guesthouse</td>\n",
       "      <td>tahoua</td>\n",
       "      <td>NE</td>\n",
       "      <td>14.8888</td>\n",
       "      <td>5.2692</td>\n",
       "    </tr>\n",
       "    <tr>\n",
       "      <th>4</th>\n",
       "      <td>InterContinental Riyadh, an IHG Hotel</td>\n",
       "      <td>riyadh</td>\n",
       "      <td>SA</td>\n",
       "      <td>24.6877</td>\n",
       "      <td>46.7219</td>\n",
       "    </tr>\n",
       "    <tr>\n",
       "      <th>5</th>\n",
       "      <td>Bal uma sankar hotel and restaurant</td>\n",
       "      <td>ginda</td>\n",
       "      <td>IN</td>\n",
       "      <td>30.6945</td>\n",
       "      <td>78.4932</td>\n",
       "    </tr>\n",
       "    <tr>\n",
       "      <th>6</th>\n",
       "      <td>Hotel Montesclaros</td>\n",
       "      <td>choix</td>\n",
       "      <td>MX</td>\n",
       "      <td>26.7092</td>\n",
       "      <td>-108.3219</td>\n",
       "    </tr>\n",
       "    <tr>\n",
       "      <th>7</th>\n",
       "      <td>Taoudenni</td>\n",
       "      <td>taoudenni</td>\n",
       "      <td>ML</td>\n",
       "      <td>22.6783</td>\n",
       "      <td>-3.9836</td>\n",
       "    </tr>\n",
       "    <tr>\n",
       "      <th>9</th>\n",
       "      <td>Broadwater Mariner Resort</td>\n",
       "      <td>geraldton</td>\n",
       "      <td>AU</td>\n",
       "      <td>-28.7667</td>\n",
       "      <td>114.6000</td>\n",
       "    </tr>\n",
       "    <tr>\n",
       "      <th>10</th>\n",
       "      <td>Khumson Sanatoriy</td>\n",
       "      <td>gazalkent</td>\n",
       "      <td>UZ</td>\n",
       "      <td>41.5581</td>\n",
       "      <td>69.7708</td>\n",
       "    </tr>\n",
       "    <tr>\n",
       "      <th>11</th>\n",
       "      <td>Kidal</td>\n",
       "      <td>kidal</td>\n",
       "      <td>ML</td>\n",
       "      <td>18.4411</td>\n",
       "      <td>1.4078</td>\n",
       "    </tr>\n",
       "    <tr>\n",
       "      <th>12</th>\n",
       "      <td>دفتر پیشخوان دولت جمال زهی (خالد)</td>\n",
       "      <td>khash</td>\n",
       "      <td>IR</td>\n",
       "      <td>28.2211</td>\n",
       "      <td>61.2158</td>\n",
       "    </tr>\n",
       "    <tr>\n",
       "      <th>14</th>\n",
       "      <td>Achemelmel</td>\n",
       "      <td>tessalit</td>\n",
       "      <td>ML</td>\n",
       "      <td>20.1986</td>\n",
       "      <td>1.0114</td>\n",
       "    </tr>\n",
       "    <tr>\n",
       "      <th>15</th>\n",
       "      <td>Gouré</td>\n",
       "      <td>goure</td>\n",
       "      <td>NE</td>\n",
       "      <td>13.9835</td>\n",
       "      <td>10.2704</td>\n",
       "    </tr>\n",
       "  </tbody>\n",
       "</table>\n",
       "</div>"
      ],
      "text/plain": [
       "                               Hotel Name       City Country  Latitude  \\\n",
       "0              Expeditions Ténére voyages      bilma      NE   18.6853   \n",
       "1                                 Bitkine    bitkine      TD   11.9801   \n",
       "2                          Oumou Elghoura       atar      MR   20.5169   \n",
       "3                    Bungalows Guesthouse     tahoua      NE   14.8888   \n",
       "4   InterContinental Riyadh, an IHG Hotel     riyadh      SA   24.6877   \n",
       "5     Bal uma sankar hotel and restaurant      ginda      IN   30.6945   \n",
       "6                      Hotel Montesclaros      choix      MX   26.7092   \n",
       "7                               Taoudenni  taoudenni      ML   22.6783   \n",
       "9               Broadwater Mariner Resort  geraldton      AU  -28.7667   \n",
       "10                      Khumson Sanatoriy  gazalkent      UZ   41.5581   \n",
       "11                                  Kidal      kidal      ML   18.4411   \n",
       "12      دفتر پیشخوان دولت جمال زهی (خالد)      khash      IR   28.2211   \n",
       "14                             Achemelmel   tessalit      ML   20.1986   \n",
       "15                                  Gouré      goure      NE   13.9835   \n",
       "\n",
       "    Longitude  \n",
       "0     12.9164  \n",
       "1     18.2138  \n",
       "2    -13.0499  \n",
       "3      5.2692  \n",
       "4     46.7219  \n",
       "5     78.4932  \n",
       "6   -108.3219  \n",
       "7     -3.9836  \n",
       "9    114.6000  \n",
       "10    69.7708  \n",
       "11     1.4078  \n",
       "12    61.2158  \n",
       "14     1.0114  \n",
       "15    10.2704  "
      ]
     },
     "execution_count": 13,
     "metadata": {},
     "output_type": "execute_result"
    }
   ],
   "source": [
    "base_url = 'https://maps.googleapis.com/maps/api/place/nearbysearch/json?'\n",
    "params = {'radius': '5000',\n",
    "          'type': 'lodging',\n",
    "          'key': gkey}\n",
    "\n",
    "for index,row in desirable_cities.iterrows():\n",
    "    params['location'] = f'{row.Latitude},{row.Longitude}'\n",
    "    response = requests.get(base_url, params=params).json()\n",
    "    try:\n",
    "        hotel_df.loc[index,'Hotel Name'] = response['results'][0]['name']\n",
    "        hotel_df.loc[index, 'City'] = row.City\n",
    "        hotel_df.loc[index, 'Country'] = row.Country\n",
    "        hotel_df.loc[index, 'Latitude'] = row.Latitude\n",
    "        hotel_df.loc[index, 'Longitude'] = row.Longitude\n",
    "    except:\n",
    "        print(f'No hotel found in {row.City}.')\n",
    "        pass\n",
    "    \n",
    "hotel_df"
   ]
  },
  {
   "cell_type": "code",
   "execution_count": 14,
   "metadata": {},
   "outputs": [],
   "source": [
    "# NOTE: Do not change any of the code in this cell\n",
    "\n",
    "# Using the template add the hotel marks to the heatmap\n",
    "info_box_template = \"\"\"\n",
    "<dl>\n",
    "<dt>Name</dt><dd>{Hotel Name}</dd>\n",
    "<dt>City</dt><dd>{City}</dd>\n",
    "<dt>Country</dt><dd>{Country}</dd>\n",
    "</dl>\n",
    "\"\"\"\n",
    "# Store the DataFrame Row\n",
    "# NOTE: be sure to update with your DataFrame name\n",
    "hotel_info = [info_box_template.format(**row) for index, row in hotel_df.iterrows()]\n",
    "locations = hotel_df[[\"Latitude\", \"Longitude\"]]"
   ]
  },
  {
   "cell_type": "code",
   "execution_count": 16,
   "metadata": {},
   "outputs": [
    {
     "data": {
      "application/vnd.jupyter.widget-view+json": {
       "model_id": "0c9a012949e542938bda63367e8749a5",
       "version_major": 2,
       "version_minor": 0
      },
      "text/plain": [
       "Figure(layout=FigureLayout(height='420px'))"
      ]
     },
     "metadata": {},
     "output_type": "display_data"
    }
   ],
   "source": [
    "# Add marker layer ontop of heat map\n",
    "markers = gmaps.marker_layer(locations, info_box_content=hotel_info)\n",
    "fig.add_layer(markers)\n",
    "# Display figure\n",
    "fig"
   ]
  },
  {
   "cell_type": "code",
   "execution_count": null,
   "metadata": {},
   "outputs": [],
   "source": [
    "\n",
    "\n",
    "\n"
   ]
  }
 ],
 "metadata": {
  "kernelspec": {
   "display_name": "Python 3",
   "language": "python",
   "name": "python3"
  },
  "language_info": {
   "codemirror_mode": {
    "name": "ipython",
    "version": 3
   },
   "file_extension": ".py",
   "mimetype": "text/x-python",
   "name": "python",
   "nbconvert_exporter": "python",
   "pygments_lexer": "ipython3",
   "version": "3.9.1"
  },
  "latex_envs": {
   "LaTeX_envs_menu_present": true,
   "autoclose": false,
   "autocomplete": true,
   "bibliofile": "biblio.bib",
   "cite_by": "apalike",
   "current_citInitial": 1,
   "eqLabelWithNumbers": true,
   "eqNumInitial": 1,
   "hotkeys": {
    "equation": "Ctrl-E",
    "itemize": "Ctrl-I"
   },
   "labels_anchors": false,
   "latex_user_defs": false,
   "report_style_numbering": false,
   "user_envs_cfg": false
  }
 },
 "nbformat": 4,
 "nbformat_minor": 4
}
